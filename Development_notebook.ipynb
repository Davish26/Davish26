{
  "nbformat": 4,
  "nbformat_minor": 0,
  "metadata": {
    "colab": {
      "provenance": [],
      "authorship_tag": "ABX9TyPDd8VHdxGIs46rjHyAu9w+",
      "include_colab_link": true
    },
    "kernelspec": {
      "name": "python3",
      "display_name": "Python 3"
    },
    "language_info": {
      "name": "python"
    }
  },
  "cells": [
    {
      "cell_type": "markdown",
      "metadata": {
        "id": "view-in-github",
        "colab_type": "text"
      },
      "source": [
        "<a href=\"https://colab.research.google.com/github/Davish26/Davish26/blob/main/Development_notebook.ipynb\" target=\"_parent\"><img src=\"https://colab.research.google.com/assets/colab-badge.svg\" alt=\"Open In Colab\"/></a>"
      ]
    },
    {
      "cell_type": "markdown",
      "source": [
        "Download the Enron database file using the wget command and save it as \"enron.db\" online\n"
      ],
      "metadata": {
        "id": "fCn9alt7vOVa"
      }
    },
    {
      "cell_type": "markdown",
      "source": [
        "Import the sqlite3 library"
      ],
      "metadata": {
        "id": "XSUg1bl0JZeT"
      }
    },
    {
      "cell_type": "markdown",
      "source": [
        "Establish a connection to the \"enron.db\" database using sqlite3\n",
        "\n"
      ],
      "metadata": {
        "id": "cA1rp52qJk2-"
      }
    },
    {
      "cell_type": "markdown",
      "source": [
        "Define a SQL query to retrieve the table names from the database\n",
        "\n",
        "Execute the query and fetch all the results"
      ],
      "metadata": {
        "id": "7SuLAdNXJk6f"
      }
    },
    {
      "cell_type": "markdown",
      "source": [
        "Define a SQL query to retrieve the table schema for the \"employeelist\" table\n",
        "\n",
        "Execute the query and fetch all the results"
      ],
      "metadata": {
        "id": "0CtnjmGwJk9W"
      }
    },
    {
      "cell_type": "markdown",
      "source": [
        "Define a SQL query to retrieve the table schema for the \"message\" table\n",
        "\n",
        "Execute the query and fetch all the results"
      ],
      "metadata": {
        "id": "5MKcAzLUJlAC"
      }
    },
    {
      "cell_type": "markdown",
      "source": [
        "Define a SQL query to retrieve the table schema for the \"recipientinfo\" table\n",
        "\n",
        "Execute the query and fetch all the results"
      ],
      "metadata": {
        "id": "WgSATKScJlC3"
      }
    },
    {
      "cell_type": "markdown",
      "source": [
        "Define a SQL query to retrieve the table schema for the \"referenceinfo\" table\n",
        "\n",
        "Execute the query and fetch all the results"
      ],
      "metadata": {
        "id": "F2BUp3JFJlGA"
      }
    },
    {
      "cell_type": "markdown",
      "source": [
        "Define a SQL query to retrieve the \"Date\" column from the \"message\" table\n",
        "\n",
        "Execute the query and fetch one result\n"
      ],
      "metadata": {
        "id": "lNAWs6aSJlI6"
      }
    },
    {
      "cell_type": "markdown",
      "source": [
        "Import the pandas library\n",
        "\n",
        "Define a SQL query to retrieve all columns from the \"message\" table\n",
        "\n",
        "Read the SQL query results into a pandas DataFrame named \"message_df\""
      ],
      "metadata": {
        "id": "iQl-k75nJlLu"
      }
    },
    {
      "cell_type": "markdown",
      "source": [
        "Display the information about the \"message_df\" DataFrame"
      ],
      "metadata": {
        "id": "2lmiN2vjJlOk"
      }
    },
    {
      "cell_type": "markdown",
      "source": [
        "Define a SQL query to retrieve the count of emails per day from the \"message\" table\n",
        "\n",
        "Execute the query and fetch one result\n"
      ],
      "metadata": {
        "id": "xaT1l9asK_ud"
      }
    },
    {
      "cell_type": "markdown",
      "source": [
        "Define a SQL query to retrieve the count of emails per week from the \"message\" table\n",
        "\n",
        "Execute the query and fetch one result\n"
      ],
      "metadata": {
        "id": "8AxpnGOSK_x9"
      }
    },
    {
      "cell_type": "markdown",
      "source": [
        "\n",
        "Define a SQL query to retrieve the count of emails per month from the \"message\" table\n",
        "\n",
        "Execute the query and fetch one result"
      ],
      "metadata": {
        "id": "Q0uynHH6K_2L"
      }
    },
    {
      "cell_type": "markdown",
      "source": [
        "Read the SQL query results into a pandas DataFrame named \"message_df\"\n"
      ],
      "metadata": {
        "id": "hpSkJrWCK_5r"
      }
    },
    {
      "cell_type": "markdown",
      "source": [
        "\n",
        "Import the seaborn and matplotlib.pyplot libraries\n"
      ],
      "metadata": {
        "id": "I6hTGU-8K_9-"
      }
    },
    {
      "cell_type": "markdown",
      "source": [
        "Create a figure with a size of (50, 5)\n",
        "\n",
        "Plot a line graph using the \"message_df\" DataFrame, with 'month' as the x-axis and 'count_email' as the y-axis\n",
        "\n",
        "Display the plot\n"
      ],
      "metadata": {
        "id": "54uVB6KhLABH"
      }
    },
    {
      "cell_type": "markdown",
      "source": [
        "Define a SQL query to retrieve the top 10 senders with the highest count of emails from the \"message\" table\n",
        "\n",
        "Read the SQL query results into a pandas DataFrame named \"sender_data\"\n",
        "\n",
        "\n"
      ],
      "metadata": {
        "id": "xb4ZtqloM6wn"
      }
    },
    {
      "cell_type": "markdown",
      "source": [
        "Define a SQL query to retrieve the top 10 recipients with the highest count of emails from the \"recipientinfo\" table\n",
        "\n",
        "Read the SQL query results into a pandas DataFrame named \"recipient_data\""
      ],
      "metadata": {
        "id": "AF-r42H1M62X"
      }
    },
    {
      "cell_type": "markdown",
      "source": [
        "Plot a bar graph using the \"sender_data\" DataFrame, with 'count_email' as the x-axis and 'sender' as the y-axis\n",
        "\n",
        "Set the x-label as 'count_email', y-label as 'sender', and title as 'Top senders'\n",
        "\n",
        "Display the plot\n",
        "\n"
      ],
      "metadata": {
        "id": "xCyNJ6ycM67g"
      }
    },
    {
      "cell_type": "markdown",
      "source": [
        "Plot a bar graph using the \"recipient_data\" DataFrame, with 'count_email' as the x-axis and 'rvalue' as the y-axis\n",
        "\n",
        "Set the x-label as 'count_email', y-label as 'sender', and title as 'Top senders'\n",
        "\n",
        "Display the plot"
      ],
      "metadata": {
        "id": "jhAhkjflM6__"
      }
    },
    {
      "cell_type": "markdown",
      "source": [
        "Define a SQL query to retrieve the count of emails by rtype from the \"recipientinfo\" table\n",
        "\n",
        "Read the SQL query results into a pandas DataFrame named \"pie_data\"\n",
        "\n",
        "Create a pie chart using the \"pie_data\" DataFrame, with 'count_email' as the data and 'rtype' as the labels\n",
        "\n",
        "Set the title as 'Pie Chart'\n",
        "\n",
        "Display the plot"
      ],
      "metadata": {
        "id": "mnJDldP5M7Ee"
      }
    },
    {
      "cell_type": "markdown",
      "source": [
        "Close the database connection\n",
        "\n",
        "Commit the changes to the database\n"
      ],
      "metadata": {
        "id": "IixKY5DoM7Ir"
      }
    },
    {
      "cell_type": "markdown",
      "source": [
        "#TESTING\n"
      ],
      "metadata": {
        "id": "oQn5Qkb1ZR7L"
      }
    },
    {
      "cell_type": "code",
      "source": [
        "#At first i missed the \"!\" which produced a syntax error which says invalid decimal literate. \n",
        "!wget -O enron.db https://curtin-my.sharepoint.com/:u:/g/personal/211934g_curtin_edu_au/EaYagsqa2r1Bi5wtHbswGFwBH2kd2uTnz6rlka7GI36GUQ?download=1"
      ],
      "metadata": {
        "id": "Ykpay1VGZWqI"
      },
      "execution_count": null,
      "outputs": []
    },
    {
      "cell_type": "code",
      "source": [
        "#I got a modulenotfound error where i found out that i wrote sqllte3 instead of sqlite3\n",
        "import sqlite3"
      ],
      "metadata": {
        "id": "m-CxM1smZ-Bj"
      },
      "execution_count": null,
      "outputs": []
    },
    {
      "cell_type": "code",
      "source": [
        "#missing a bracket in this one could reseult in syntax error\n",
        "conn = sqlite3.connect(\"enron.db\")"
      ],
      "metadata": {
        "id": "XcTIrXSRaM3i"
      },
      "execution_count": null,
      "outputs": []
    },
    {
      "cell_type": "code",
      "source": [
        "#When checking scheme of database, we should make sure to close the sql else we will get a syntax error telling that we have an incomplete input\n",
        "sql = \"\"\"\n",
        "SELECT name\n",
        "FROM sqlite_master\n",
        "WHERE type = 'table';\n",
        "\"\"\"\n",
        "cur.execute(sql)\n",
        "cur.fetchall()"
      ],
      "metadata": {
        "id": "fwl8M9gwagGZ"
      },
      "execution_count": null,
      "outputs": []
    },
    {
      "cell_type": "code",
      "source": [
        "#writing the name of the function \"message\" could result in a name error. Moreover i got a Name error for writing con instead of conn and an attribute error can be produced if we miss an underscore\n",
        "import pandas as pd\n",
        "sql = \"\"\"\n",
        "SELECT * from message;\n",
        "\"\"\"\n",
        "message_df = pd.read_sql_query(sql,conn)\n",
        "message_df"
      ],
      "metadata": {
        "id": "VYaoCKxLbGhh"
      },
      "execution_count": null,
      "outputs": []
    },
    {
      "cell_type": "code",
      "source": [
        "#missing a single quote in this one could result in an operational error\n",
        "sql = \"\"\"\n",
        "SELECT strftime('%Y-%m-%d', date) AS day, COUNT(*) AS count_email\n",
        "FROM message\n",
        "Group by day\n",
        "\"\"\"\n",
        "cur.execute(sql)\n",
        "cur.fetchone()"
      ],
      "metadata": {
        "id": "wdLKIa9Dczh0"
      },
      "execution_count": null,
      "outputs": []
    }
  ]
}